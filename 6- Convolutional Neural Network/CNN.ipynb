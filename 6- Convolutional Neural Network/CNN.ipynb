{
 "cells": [
  {
   "cell_type": "code",
   "execution_count": 1,
   "id": "f4abff58-8342-4e52-a002-9b6cb5610edf",
   "metadata": {},
   "outputs": [],
   "source": [
    "import tensorflow as tf\n",
    "import numpy as np\n",
    "import matplotlib.pyplot as plt\n",
    "import cv2\n",
    "import seaborn as sns\n",
    "from tensorflow import keras\n",
    "from keras.models import Sequential\n",
    "from sklearn.metrics import confusion_matrix\n",
    "from keras.layers import Dense, Dropout, Activation, Flatten, Conv2D, MaxPool2D, BatchNormalization"
   ]
  },
  {
   "cell_type": "code",
   "execution_count": 2,
   "id": "c76a82f0-511c-499f-935b-d8d755949e5f",
   "metadata": {},
   "outputs": [],
   "source": [
    "np.random.seed(0)"
   ]
  },
  {
   "cell_type": "code",
   "execution_count": 3,
   "id": "b43dc213-0d0d-43a7-99b6-1040c310a921",
   "metadata": {},
   "outputs": [],
   "source": [
    "# read the MNIST dataset\n",
    "mnist = keras.datasets.mnist"
   ]
  },
  {
   "cell_type": "code",
   "execution_count": 4,
   "id": "0bf5ff66-7959-481f-bf15-58f841ab01dc",
   "metadata": {},
   "outputs": [],
   "source": [
    "# split to train and test\n",
    "(x_train, y_train), (x_test, y_test) = mnist.load_data()"
   ]
  },
  {
   "cell_type": "code",
   "execution_count": 5,
   "id": "0fa4612e-2c0d-4931-b739-f3414460d37b",
   "metadata": {},
   "outputs": [],
   "source": [
    "num_classes = 10"
   ]
  },
  {
   "cell_type": "code",
   "execution_count": 6,
   "id": "ebe418a8-2a84-460f-8fe1-dd1e487251a2",
   "metadata": {},
   "outputs": [],
   "source": [
    "# normalize features\n",
    "x_train = x_train / 255\n",
    "x_test = x_test / 255"
   ]
  },
  {
   "cell_type": "code",
   "execution_count": 7,
   "id": "46eba8fd-086f-4a3b-bfdc-5aea098cf60c",
   "metadata": {},
   "outputs": [
    {
     "data": {
      "text/plain": [
       "array([0.        , 0.        , 0.        , 0.        , 0.        ,\n",
       "       0.        , 0.32941176, 0.7254902 , 0.62352941, 0.59215686,\n",
       "       0.23529412, 0.14117647, 0.        , 0.        , 0.        ,\n",
       "       0.        , 0.        , 0.        , 0.        , 0.        ,\n",
       "       0.        , 0.        , 0.        , 0.        , 0.        ,\n",
       "       0.        , 0.        , 0.        ])"
      ]
     },
     "execution_count": 7,
     "metadata": {},
     "output_type": "execute_result"
    }
   ],
   "source": [
    "x_test[0][7]"
   ]
  },
  {
   "cell_type": "code",
   "execution_count": 8,
   "id": "6d519191-76fc-4351-a9ab-9a2027c58bc5",
   "metadata": {},
   "outputs": [],
   "source": [
    "# reshape images to three-dimensions\n",
    "x_train = x_train.reshape(x_train.shape[0], 28, 28, 1)\n",
    "x_test = x_test.reshape(x_test.shape[0], 28, 28, 1)"
   ]
  },
  {
   "cell_type": "code",
   "execution_count": 9,
   "id": "02649423-2a20-4075-8de1-e67d501d1b8e",
   "metadata": {},
   "outputs": [
    {
     "data": {
      "text/plain": [
       "((60000, 28, 28, 1), (10000, 28, 28, 1))"
      ]
     },
     "execution_count": 9,
     "metadata": {},
     "output_type": "execute_result"
    }
   ],
   "source": [
    "x_train.shape,x_test.shape"
   ]
  },
  {
   "cell_type": "code",
   "execution_count": 10,
   "id": "d08bb22e-366a-4afd-bc4f-b07d905f46de",
   "metadata": {},
   "outputs": [],
   "source": [
    "y_train = keras.utils.to_categorical(y_train)\n",
    "y_test = keras.utils.to_categorical(y_test)"
   ]
  },
  {
   "cell_type": "code",
   "execution_count": 11,
   "id": "5ccaf5d0-7b60-437f-bad9-3a5852bee582",
   "metadata": {},
   "outputs": [
    {
     "data": {
      "text/plain": [
       "array([0., 0., 0., 0., 0., 1., 0., 0., 0., 0.], dtype=float32)"
      ]
     },
     "execution_count": 11,
     "metadata": {},
     "output_type": "execute_result"
    }
   ],
   "source": [
    "y_train[0]"
   ]
  },
  {
   "cell_type": "code",
   "execution_count": 12,
   "id": "d2324e17-7c6f-48c2-b1c4-18790b8cd456",
   "metadata": {},
   "outputs": [],
   "source": [
    "model1 = Sequential()\n",
    "model1.add(Conv2D(filters=32, kernel_size=3, activation='relu', input_shape=x_train.shape[1:]))\n",
    "model1.add(MaxPool2D(pool_size=(2, 2)))\n",
    "model1.add(BatchNormalization())\n",
    "model1.add(Flatten())\n",
    "model1.add(Dense(units=10, activation='softmax'))\n",
    "\n",
    "model1.compile(loss=\"categorical_crossentropy\", optimizer=\"adam\", metrics=[\"accuracy\"])"
   ]
  },
  {
   "cell_type": "code",
   "execution_count": 13,
   "id": "3b77fa78-95f2-4e71-8dcb-5ead907cee37",
   "metadata": {},
   "outputs": [],
   "source": [
    "model2 = Sequential()\n",
    "model2.add(Conv2D(filters=32, kernel_size=3,activation='relu',input_shape=x_train.shape[1:]))\n",
    "model2.add(MaxPool2D(pool_size=(2, 2)))\n",
    "model2.add(Conv2D(filters=128, kernel_size=3,activation='relu'))\n",
    "model2.add(MaxPool2D(pool_size=(2, 2)))\n",
    "model2.add(BatchNormalization())\n",
    "model2.add(Flatten())\n",
    "model2.add(Dense(units=128, activation='relu'))\n",
    "model2.add(Dense(units=10, activation='softmax'))\n",
    "\n",
    "model2.compile(loss=\"categorical_crossentropy\", optimizer=\"adam\", metrics=[\"accuracy\"])"
   ]
  },
  {
   "cell_type": "code",
   "execution_count": 14,
   "id": "17ecd36b-e66c-4c44-8584-54de46387a77",
   "metadata": {},
   "outputs": [],
   "source": [
    "model3 = Sequential()\n",
    "model3.add(Conv2D(filters=32, kernel_size=3, activation=\"relu\", input_shape=x_train.shape[1:]))\n",
    "model3.add(Conv2D(filters=32, kernel_size=3, activation=\"relu\"))\n",
    "model3.add(Conv2D(filters=64, kernel_size=3, activation=\"relu\"))\n",
    "model3.add(MaxPool2D(pool_size=(2, 2)))\n",
    "model3.add(BatchNormalization())   \n",
    "model3.add(Conv2D(filters=128, kernel_size=3, activation=\"relu\"))\n",
    "model3.add(MaxPool2D(pool_size=(2,2)))\n",
    "model3.add(BatchNormalization())\n",
    "model3.add(Flatten())\n",
    "model3.add(Dense(units=256,activation=\"relu\"))\n",
    "model3.add(Dense(units=10,activation=\"softmax\"))\n",
    "\n",
    "model3.compile(loss=\"categorical_crossentropy\", optimizer=\"adam\", metrics=[\"accuracy\"])"
   ]
  },
  {
   "cell_type": "code",
   "execution_count": 15,
   "id": "9906236d-ec31-47d2-b371-711e7e04e6fd",
   "metadata": {},
   "outputs": [],
   "source": [
    "model4 = Sequential()\n",
    "model4.add(Conv2D(filters=32, kernel_size=3, activation='relu', input_shape=x_train.shape[1:]))\n",
    "model4.add(Conv2D(filters=32, kernel_size=3, activation='relu'))\n",
    "model4.add(MaxPool2D(pool_size=(2,2)))\n",
    "model4.add(BatchNormalization())\n",
    "model4.add(Conv2D(filters=64, kernel_size=3, activation='relu'))\n",
    "model4.add(Conv2D(filters=64, kernel_size=3, activation='relu'))\n",
    "model4.add(MaxPool2D(pool_size=(2,2)))\n",
    "model4.add(BatchNormalization())\n",
    "model4.add(Flatten())\n",
    "model3.add(Dense(units=128,activation=\"relu\"))\n",
    "model4.add(Dense(units=10, activation='softmax'))\n",
    "\n",
    "model4.compile(loss=\"categorical_crossentropy\", optimizer=\"adam\", metrics=[\"accuracy\"])"
   ]
  },
  {
   "cell_type": "code",
   "execution_count": 16,
   "id": "b8205fe8-3e70-4908-883b-0063f377a304",
   "metadata": {},
   "outputs": [],
   "source": [
    "epochs = 5"
   ]
  },
  {
   "cell_type": "code",
   "execution_count": 18,
   "id": "ca060ed3-8ec4-4b50-8ed3-f1baa006dd1c",
   "metadata": {},
   "outputs": [
    {
     "name": "stdout",
     "output_type": "stream",
     "text": [
      "Epoch 1/5\n",
      "1500/1500 [==============================] - 14s 9ms/step - loss: 0.1488 - accuracy: 0.9547 - val_loss: 0.0761 - val_accuracy: 0.9771\n",
      "Epoch 2/5\n",
      "1500/1500 [==============================] - 14s 9ms/step - loss: 0.0621 - accuracy: 0.9812 - val_loss: 0.0714 - val_accuracy: 0.9798\n",
      "Epoch 3/5\n",
      "1500/1500 [==============================] - 14s 9ms/step - loss: 0.0413 - accuracy: 0.9867 - val_loss: 0.0877 - val_accuracy: 0.9762\n",
      "Epoch 4/5\n",
      "1500/1500 [==============================] - 14s 9ms/step - loss: 0.0317 - accuracy: 0.9898 - val_loss: 0.0744 - val_accuracy: 0.9797\n",
      "Epoch 5/5\n",
      "1500/1500 [==============================] - 14s 9ms/step - loss: 0.0234 - accuracy: 0.9921 - val_loss: 0.0916 - val_accuracy: 0.9781\n"
     ]
    },
    {
     "data": {
      "text/plain": [
       "<keras.callbacks.History at 0x10bee866d60>"
      ]
     },
     "execution_count": 18,
     "metadata": {},
     "output_type": "execute_result"
    }
   ],
   "source": [
    "model1.fit(x=x_train, y=y_train, epochs=epochs, validation_split=0.2, shuffle=True)"
   ]
  },
  {
   "cell_type": "code",
   "execution_count": 19,
   "id": "d48b9c04-df03-4197-9a58-2703b1f01259",
   "metadata": {},
   "outputs": [
    {
     "name": "stdout",
     "output_type": "stream",
     "text": [
      "Epoch 1/5\n",
      "1500/1500 [==============================] - 34s 22ms/step - loss: 0.0984 - accuracy: 0.9708 - val_loss: 0.0466 - val_accuracy: 0.9862\n",
      "Epoch 2/5\n",
      "1500/1500 [==============================] - 37s 25ms/step - loss: 0.0424 - accuracy: 0.9869 - val_loss: 0.0708 - val_accuracy: 0.9794\n",
      "Epoch 3/5\n",
      "1500/1500 [==============================] - 37s 25ms/step - loss: 0.0267 - accuracy: 0.9920 - val_loss: 0.0833 - val_accuracy: 0.9744\n",
      "Epoch 4/5\n",
      "1500/1500 [==============================] - 37s 25ms/step - loss: 0.0215 - accuracy: 0.9933 - val_loss: 0.0712 - val_accuracy: 0.9827\n",
      "Epoch 5/5\n",
      "1500/1500 [==============================] - 37s 25ms/step - loss: 0.0169 - accuracy: 0.9946 - val_loss: 0.0487 - val_accuracy: 0.9872\n"
     ]
    },
    {
     "data": {
      "text/plain": [
       "<keras.callbacks.History at 0x10beedc7610>"
      ]
     },
     "execution_count": 19,
     "metadata": {},
     "output_type": "execute_result"
    }
   ],
   "source": [
    "model2.fit(x=x_train, y=y_train, epochs=epochs, validation_split=0.2, shuffle=True)"
   ]
  },
  {
   "cell_type": "code",
   "execution_count": 22,
   "id": "8d4f3c6f-a717-4057-8dbc-271a0540d78f",
   "metadata": {},
   "outputs": [
    {
     "name": "stdout",
     "output_type": "stream",
     "text": [
      "Epoch 1/5\n",
      "1500/1500 [==============================] - 104s 69ms/step - loss: 0.1129 - accuracy: 0.9679 - val_loss: 0.0826 - val_accuracy: 0.9802\n",
      "Epoch 2/5\n",
      "1500/1500 [==============================] - 115s 77ms/step - loss: 0.0465 - accuracy: 0.9868 - val_loss: 0.0555 - val_accuracy: 0.9857\n",
      "Epoch 3/5\n",
      "1500/1500 [==============================] - 117s 78ms/step - loss: 0.0364 - accuracy: 0.9896 - val_loss: 0.1565 - val_accuracy: 0.9625\n",
      "Epoch 4/5\n",
      "1500/1500 [==============================] - 112s 75ms/step - loss: 0.0307 - accuracy: 0.9914 - val_loss: 0.0492 - val_accuracy: 0.9871\n",
      "Epoch 5/5\n",
      "1500/1500 [==============================] - 111s 74ms/step - loss: 0.0218 - accuracy: 0.9937 - val_loss: 0.0490 - val_accuracy: 0.9888\n"
     ]
    },
    {
     "data": {
      "text/plain": [
       "<keras.callbacks.History at 0x10beeeec250>"
      ]
     },
     "execution_count": 22,
     "metadata": {},
     "output_type": "execute_result"
    }
   ],
   "source": [
    "model3.fit(x=x_train, y=y_train, epochs=epochs, validation_split=0.2, shuffle=True)"
   ]
  },
  {
   "cell_type": "code",
   "execution_count": 17,
   "id": "fcfabef5-cdde-4118-aec4-cc35ecf7d64d",
   "metadata": {},
   "outputs": [
    {
     "name": "stdout",
     "output_type": "stream",
     "text": [
      "Epoch 1/5\n",
      "1500/1500 [==============================] - 62s 41ms/step - loss: 0.0944 - accuracy: 0.9707 - val_loss: 0.0625 - val_accuracy: 0.9811\n",
      "Epoch 2/5\n",
      "1500/1500 [==============================] - 55s 37ms/step - loss: 0.0415 - accuracy: 0.9870 - val_loss: 0.0826 - val_accuracy: 0.9772\n",
      "Epoch 3/5\n",
      "1500/1500 [==============================] - 55s 37ms/step - loss: 0.0306 - accuracy: 0.9904 - val_loss: 0.0501 - val_accuracy: 0.9853\n",
      "Epoch 4/5\n",
      "1500/1500 [==============================] - 56s 37ms/step - loss: 0.0243 - accuracy: 0.9924 - val_loss: 0.0357 - val_accuracy: 0.9899\n",
      "Epoch 5/5\n",
      "1500/1500 [==============================] - 66s 44ms/step - loss: 0.0175 - accuracy: 0.9943 - val_loss: 0.0500 - val_accuracy: 0.9872\n"
     ]
    },
    {
     "data": {
      "text/plain": [
       "<keras.callbacks.History at 0x1dd37b24c10>"
      ]
     },
     "execution_count": 17,
     "metadata": {},
     "output_type": "execute_result"
    }
   ],
   "source": [
    "model4.fit(x=x_train, y=y_train, epochs=epochs, validation_split=0.2, shuffle=True)"
   ]
  },
  {
   "cell_type": "code",
   "execution_count": 18,
   "id": "ac81d8f4-a5b3-4c51-9b2e-1cc1a3545ebb",
   "metadata": {},
   "outputs": [
    {
     "name": "stdout",
     "output_type": "stream",
     "text": [
      "INFO:tensorflow:Assets written to: model4.weights\\assets\n"
     ]
    }
   ],
   "source": [
    "model1.save('models/model1.weights')\n",
    "model2.save('models/model2.weights')\n",
    "model3.save('models/model3.weights')\n",
    "model4.save('models/model4.weights')"
   ]
  },
  {
   "cell_type": "code",
   "execution_count": 27,
   "id": "05af7ec4-ca53-49e7-b4e8-f2f045a59eca",
   "metadata": {},
   "outputs": [],
   "source": [
    "model1 = keras.models.load_model('models/model1.weights')\n",
    "model2 = keras.models.load_model('models/model2.weights')\n",
    "model3 = keras.models.load_model('models/model3.weights')\n",
    "model4 = keras.models.load_model('models/model4.weights')"
   ]
  },
  {
   "cell_type": "code",
   "execution_count": 28,
   "id": "b2e73e3b-84b7-4e10-bc2d-af4a0c0abb95",
   "metadata": {},
   "outputs": [
    {
     "name": "stdout",
     "output_type": "stream",
     "text": [
      "313/313 [==============================] - 1s 3ms/step - loss: 0.0864 - accuracy: 0.9787\n",
      "Test Loss: 0.08636116236448288, Test Accuracy: 0.9786999821662903\n"
     ]
    }
   ],
   "source": [
    "test_loss, test_acc = model1.evaluate(x_test, y_test)\n",
    "print(\"Test Loss: {}, Test Accuracy: {}\".format(test_loss, test_acc))"
   ]
  },
  {
   "cell_type": "code",
   "execution_count": 29,
   "id": "d95db469-f769-44b2-bc34-d90f726b74b6",
   "metadata": {},
   "outputs": [
    {
     "name": "stdout",
     "output_type": "stream",
     "text": [
      "313/313 [==============================] - 3s 8ms/step - loss: 0.0474 - accuracy: 0.9880\n",
      "Test Loss: 0.04740525037050247, Test Accuracy: 0.9879999756813049\n"
     ]
    }
   ],
   "source": [
    "test_loss, test_acc = model2.evaluate(x_test, y_test)\n",
    "print(\"Test Loss: {}, Test Accuracy: {}\".format(test_loss, test_acc))"
   ]
  },
  {
   "cell_type": "code",
   "execution_count": 30,
   "id": "b9457869-a487-46d9-a5de-9d876e25c773",
   "metadata": {},
   "outputs": [
    {
     "name": "stdout",
     "output_type": "stream",
     "text": [
      "313/313 [==============================] - 6s 19ms/step - loss: 0.0415 - accuracy: 0.9889\n",
      "Test Loss: 0.0414704829454422, Test Accuracy: 0.9889000058174133\n"
     ]
    }
   ],
   "source": [
    "test_loss, test_acc = model3.evaluate(x_test, y_test)\n",
    "print(\"Test Loss: {}, Test Accuracy: {}\".format(test_loss, test_acc))"
   ]
  },
  {
   "cell_type": "code",
   "execution_count": 31,
   "id": "b18d5beb-b3b9-409f-8200-772f2593fe3b",
   "metadata": {},
   "outputs": [
    {
     "name": "stdout",
     "output_type": "stream",
     "text": [
      "313/313 [==============================] - 4s 11ms/step - loss: 0.0381 - accuracy: 0.9893\n",
      "Test Loss: 0.03807058930397034, Test Accuracy: 0.989300012588501\n"
     ]
    }
   ],
   "source": [
    "test_loss, test_acc = model4.evaluate(x_test, y_test)\n",
    "print(\"Test Loss: {}, Test Accuracy: {}\".format(test_loss, test_acc))"
   ]
  },
  {
   "cell_type": "code",
   "execution_count": 24,
   "id": "2b392dbb-4baf-47f1-ae5b-eb63abb1c6a2",
   "metadata": {},
   "outputs": [
    {
     "data": {
      "image/png": "[encoded data removed]",
      "text/plain": [
       "<Figure size 720x720 with 1 Axes>"
      ]
     },
     "metadata": {
      "needs_background": "light"
     },
     "output_type": "display_data"
    }
   ],
   "source": [
    "fig = plt.figure(figsize=(10, 10)) # Set Figure\n",
    "\n",
    "y_pred = model4.predict(x_test)\n",
    "\n",
    "y_pred_res = np.argmax(y_pred, axis=1)\n",
    "y_test_res = np.argmax(y_test, axis=1)\n",
    "\n",
    "mat = confusion_matrix(y_test_res, y_pred_res)\n",
    "sns.heatmap(mat.T, square=True, annot=True, cbar=False, cmap=plt.cm.Blues, fmt='d')\n",
    "plt.xlabel('Predicted Values')\n",
    "plt.ylabel('True Values');\n",
    "\n",
    "plt.show();"
   ]
  },
  {
   "cell_type": "code",
   "execution_count": 25,
   "id": "6504e847-849d-4c92-96cc-0bc7a3cbe425",
   "metadata": {},
   "outputs": [
    {
     "name": "stdout",
     "output_type": "stream",
     "text": [
      "9893 107\n"
     ]
    }
   ],
   "source": [
    "predicted=np.argmax(model4.predict(x_test), axis=1)\n",
    "y_test_res = np.argmax(y_test, axis=1)\n",
    "incorrect = np.nonzero(predicted != y_test_res)[0]\n",
    "correct = np.nonzero(predicted == y_test_res)[0]\n",
    "\n",
    "print(len(correct), len(incorrect))"
   ]
  },
  {
   "cell_type": "code",
   "execution_count": 32,
   "id": "724c21bc-610c-4e3b-b450-6947cd184596",
   "metadata": {},
   "outputs": [
    {
     "name": "stdout",
     "output_type": "stream",
     "text": [
      "2\n"
     ]
    }
   ],
   "source": [
    "img = cv2.imread('samples/two.png')\n",
    "gray = cv2.cvtColor(img, cv2.COLOR_BGR2GRAY)\n",
    "resized = cv2.resize(gray, (28, 28), interpolation=cv2.INTER_AREA)\n",
    "newimg = resized / 255\n",
    "newimg = np.array(newimg).reshape(-1, 28, 28, 1)\n",
    "predictions = model4.predict(newimg)\n",
    "print(np.argmax(predictions))"
   ]
  }
 ],
 "metadata": {
  "kernelspec": {
   "display_name": "Python 3 (ipykernel)",
   "language": "python",
   "name": "python3"
  },
  "language_info": {
   "codemirror_mode": {
    "name": "ipython",
    "version": 3
   },
   "file_extension": ".py",
   "mimetype": "text/x-python",
   "name": "python",
   "nbconvert_exporter": "python",
   "pygments_lexer": "ipython3",
   "version": "3.8.7"
  }
 },
 "nbformat": 4,
 "nbformat_minor": 5
}
